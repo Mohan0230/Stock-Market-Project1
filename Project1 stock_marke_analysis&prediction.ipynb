{
 "cells": [
  {
   "cell_type": "code",
   "execution_count": 1,
   "id": "d8b12ccb-6323-4f5f-bb12-3363ed6fbd39",
   "metadata": {},
   "outputs": [
    {
     "name": "stdout",
     "output_type": "stream",
     "text": [
      "  Ticker        Date        Open        High         Low       Close  \\\n",
      "0   AAPL  07-02-2023  150.639999  155.229996  150.639999  154.649994   \n",
      "1   AAPL  08-02-2023  153.880005  154.580002  151.169998  151.919998   \n",
      "2   AAPL  09-02-2023  153.779999  154.330002  150.419998  150.869995   \n",
      "3   AAPL  10-02-2023  149.460007  151.339996  149.220001  151.009995   \n",
      "4   AAPL  13-02-2023  150.949997  154.259995  150.919998  153.850006   \n",
      "\n",
      "    Adj Close    Volume  \n",
      "0  154.414230  83322600  \n",
      "1  151.688400  64120100  \n",
      "2  150.639999  56007100  \n",
      "3  151.009995  57450700  \n",
      "4  153.850006  62199000  \n"
     ]
    }
   ],
   "source": [
    "import pandas as pd\n",
    "import numpy as np\n",
    "import matplotlib.pyplot as plt\n",
    "import seaborn as sns\n",
    "from sklearn.model_selection import train_test_split\n",
    "from sklearn.preprocessing import StandardScaler\n",
    "from sklearn.linear_model import LinearRegression\n",
    "from sklearn.ensemble import RandomForestRegressor\n",
    "from sklearn.metrics import mean_absolute_error, r2_score\n",
    "\n",
    "\n",
    "# Load the dataset\n",
    "file_path = \"stocks.csv\"  # Ensure the file is in the same directory as your notebook\n",
    "data = pd.read_csv(file_path)\n",
    "\n",
    "# Display first few rows\n",
    "print(data.head())"
   ]
  },
  {
   "cell_type": "code",
   "execution_count": 2,
   "id": "c7f03688-d55a-4243-bae5-96e83fd1e892",
   "metadata": {},
   "outputs": [
    {
     "name": "stdout",
     "output_type": "stream",
     "text": [
      "<class 'pandas.core.frame.DataFrame'>\n",
      "RangeIndex: 248 entries, 0 to 247\n",
      "Data columns (total 8 columns):\n",
      " #   Column     Non-Null Count  Dtype         \n",
      "---  ------     --------------  -----         \n",
      " 0   Ticker     248 non-null    object        \n",
      " 1   Date       248 non-null    datetime64[ns]\n",
      " 2   Open       248 non-null    float64       \n",
      " 3   High       248 non-null    float64       \n",
      " 4   Low        248 non-null    float64       \n",
      " 5   Close      248 non-null    float64       \n",
      " 6   Adj Close  248 non-null    float64       \n",
      " 7   Volume     248 non-null    int64         \n",
      "dtypes: datetime64[ns](1), float64(5), int64(1), object(1)\n",
      "memory usage: 15.6+ KB\n",
      "None\n",
      "  Ticker       Date        Open        High         Low       Close  \\\n",
      "0   AAPL 2023-02-07  150.639999  155.229996  150.639999  154.649994   \n",
      "1   AAPL 2023-02-08  153.880005  154.580002  151.169998  151.919998   \n",
      "2   AAPL 2023-02-09  153.779999  154.330002  150.419998  150.869995   \n",
      "3   AAPL 2023-02-10  149.460007  151.339996  149.220001  151.009995   \n",
      "4   AAPL 2023-02-13  150.949997  154.259995  150.919998  153.850006   \n",
      "\n",
      "    Adj Close    Volume  \n",
      "0  154.414230  83322600  \n",
      "1  151.688400  64120100  \n",
      "2  150.639999  56007100  \n",
      "3  151.009995  57450700  \n",
      "4  153.850006  62199000  \n"
     ]
    }
   ],
   "source": [
    "import pandas as pd\n",
    "\n",
    "# Load dataset\n",
    "file_path = \"stocks.csv\"  # Ensure the file is in the correct directory\n",
    "data = pd.read_csv(file_path)\n",
    "\n",
    "# Convert Date column to datetime format\n",
    "data['Date'] = pd.to_datetime(data['Date'], format=\"%d-%m-%Y\")\n",
    "\n",
    "# Drop any duplicate rows if present\n",
    "data = data.drop_duplicates()\n",
    "\n",
    "# Check for missing values and remove them\n",
    "data = data.dropna()\n",
    "\n",
    "# Display dataset info\n",
    "print(data.info())\n",
    "print(data.head())  # Check if data loaded correctly\n"
   ]
  },
  {
   "cell_type": "code",
   "execution_count": 3,
   "id": "ddb2ec17-dccf-406f-9d7d-7495c5e87fe4",
   "metadata": {},
   "outputs": [
    {
     "name": "stdout",
     "output_type": "stream",
     "text": [
      "Ticker       0\n",
      "Date         0\n",
      "Open         0\n",
      "High         0\n",
      "Low          0\n",
      "Close        0\n",
      "Adj Close    0\n",
      "Volume       0\n",
      "dtype: int64\n",
      "<class 'pandas.core.frame.DataFrame'>\n",
      "RangeIndex: 248 entries, 0 to 247\n",
      "Data columns (total 8 columns):\n",
      " #   Column     Non-Null Count  Dtype         \n",
      "---  ------     --------------  -----         \n",
      " 0   Ticker     248 non-null    object        \n",
      " 1   Date       248 non-null    datetime64[ns]\n",
      " 2   Open       248 non-null    float64       \n",
      " 3   High       248 non-null    float64       \n",
      " 4   Low        248 non-null    float64       \n",
      " 5   Close      248 non-null    float64       \n",
      " 6   Adj Close  248 non-null    float64       \n",
      " 7   Volume     248 non-null    int64         \n",
      "dtypes: datetime64[ns](1), float64(5), int64(1), object(1)\n",
      "memory usage: 15.6+ KB\n",
      "None\n"
     ]
    }
   ],
   "source": [
    "# Check for missing values\n",
    "print(data.isnull().sum())\n",
    "\n",
    "# Convert Date column to datetime\n",
    "# Convert Date column to datetime with correct format\n",
    "data['Date'] = pd.to_datetime(data['Date'], format=\"%d-%m-%Y\")\n",
    "\n",
    "\n",
    "# Drop any duplicate rows if present\n",
    "data = data.drop_duplicates()\n",
    "\n",
    "# Display dataset info\n",
    "print(data.info())\n"
   ]
  },
  {
   "cell_type": "code",
   "execution_count": 4,
   "id": "f77ea7c0-cf9e-44f7-9d00-77139ab7e72a",
   "metadata": {},
   "outputs": [
    {
     "name": "stdout",
     "output_type": "stream",
     "text": [
      "\n",
      "Dataset Summary:\n",
      "                                 Date        Open        High         Low  \\\n",
      "count                            248  248.000000  248.000000  248.000000   \n",
      "mean   2023-03-22 22:27:05.806451712  215.252093  217.919662  212.697452   \n",
      "min              2023-02-07 00:00:00   89.540001   90.129997   88.860001   \n",
      "25%              2023-03-01 00:00:00  135.235004  137.440004  134.822495   \n",
      "50%              2023-03-22 12:00:00  208.764999  212.614998  208.184998   \n",
      "75%              2023-04-14 00:00:00  304.177506  307.565002  295.437500   \n",
      "max              2023-05-05 00:00:00  372.410004  373.829987  361.739990   \n",
      "std                              NaN   91.691315   92.863023   90.147881   \n",
      "\n",
      "            Close   Adj Close        Volume  \n",
      "count  248.000000  248.000000  2.480000e+02  \n",
      "mean   215.381674  215.362697  3.208210e+07  \n",
      "min     89.349998   89.349998  2.657900e+06  \n",
      "25%    136.347498  136.347498  1.714180e+07  \n",
      "50%    209.920006  209.920006  2.734000e+07  \n",
      "75%    303.942505  303.942505  4.771772e+07  \n",
      "max    366.829987  366.829987  1.133164e+08  \n",
      "std     91.461989   91.454750  2.233590e+07  \n"
     ]
    }
   ],
   "source": [
    "print(\"\\nDataset Summary:\\n\", data.describe())"
   ]
  },
  {
   "cell_type": "code",
   "execution_count": 5,
   "id": "ca56a48d-22c1-4259-8f10-abc447757bfa",
   "metadata": {},
   "outputs": [
    {
     "name": "stdout",
     "output_type": "stream",
     "text": [
      "\n",
      "Unique Tickers: ['AAPL' 'MSFT' 'NFLX' 'GOOG']\n"
     ]
    }
   ],
   "source": [
    "print(\"\\nUnique Tickers:\", data['Ticker'].unique())"
   ]
  },
  {
   "cell_type": "code",
   "execution_count": 6,
   "id": "476a74cb-2c3c-44f1-b945-88af78cf91b0",
   "metadata": {},
   "outputs": [
    {
     "data": {
      "image/png": "[encoded data removed]",
      "text/plain": [
       "<Figure size 1200x600 with 1 Axes>"
      ]
     },
     "metadata": {},
     "output_type": "display_data"
    }
   ],
   "source": [
    "import matplotlib.pyplot as plt  # Ensure Matplotlib is imported\n",
    "\n",
    "plt.figure(figsize=(12, 6))\n",
    "for ticker in data['Ticker'].unique():\n",
    "    subset = data[data['Ticker'] == ticker]\n",
    "    plt.plot(subset['Date'], subset['Close'], label=ticker)\n",
    "\n",
    "plt.xlabel(\"Date\")\n",
    "plt.ylabel(\"Closing Price\")\n",
    "plt.title(\"Stock Closing Prices Over Time\")\n",
    "plt.legend()\n",
    "plt.show()\n"
   ]
  },
  {
   "cell_type": "code",
   "execution_count": 7,
   "id": "697c4af6-1f12-480e-afab-3b4ba541f0b5",
   "metadata": {
    "scrolled": true
   },
   "outputs": [
    {
     "name": "stdout",
     "output_type": "stream",
     "text": [
      "  Ticker       Date        Open        High         Low       Close  \\\n",
      "0   AAPL 2023-02-07  150.639999  155.229996  150.639999  154.649994   \n",
      "1   AAPL 2023-02-08  153.880005  154.580002  151.169998  151.919998   \n",
      "2   AAPL 2023-02-09  153.779999  154.330002  150.419998  150.869995   \n",
      "3   AAPL 2023-02-10  149.460007  151.339996  149.220001  151.009995   \n",
      "4   AAPL 2023-02-13  150.949997  154.259995  150.919998  153.850006   \n",
      "\n",
      "    Adj Close    Volume  Daily_Return  50_MA  Volatility  \n",
      "0  154.414230  83322600           NaN    NaN         NaN  \n",
      "1  151.688400  64120100     -0.017653    NaN         NaN  \n",
      "2  150.639999  56007100     -0.006912    NaN         NaN  \n",
      "3  151.009995  57450700      0.000928    NaN         NaN  \n",
      "4  153.850006  62199000      0.018807    NaN         NaN  \n"
     ]
    }
   ],
   "source": [
    "# Calculate daily returns\n",
    "data['Daily_Return'] = data.groupby('Ticker')['Close'].pct_change()\n",
    "\n",
    "# 50-day Moving Average\n",
    "data['50_MA'] = data.groupby('Ticker')['Close'].transform(lambda x: x.rolling(window=50).mean())\n",
    "\n",
    "# Volatility: Standard deviation of daily returns over a 20-day window\n",
    "data['Volatility'] = data.groupby('Ticker')['Daily_Return'].transform(lambda x: x.rolling(20).std())\n",
    "\n",
    "# Display the updated dataset\n",
    "print(data.head())\n"
   ]
  },
  {
   "cell_type": "code",
   "execution_count": 8,
   "id": "6a5bacc7-1297-4b64-9c89-faf22244e8f7",
   "metadata": {},
   "outputs": [],
   "source": [
    "from sklearn.model_selection import train_test_split\n",
    "from sklearn.preprocessing import StandardScaler\n",
    "\n",
    "# Selecting independent features (X) and target variable (y)\n",
    "data = data.dropna()  # Remove NaN values (important before ML)\n",
    "X = data[['Open', 'High', 'Low', 'Volume']]  \n",
    "y = data['Close']  \n",
    "\n",
    "# Split data into 80% training and 20% testing\n",
    "X_train, X_test, y_train, y_test = train_test_split(X, y, test_size=0.2, random_state=42)\n",
    "\n",
    "# Standardize the data (important for better ML performance)\n",
    "scaler = StandardScaler()\n",
    "X_train = scaler.fit_transform(X_train)\n",
    "X_test = scaler.transform(X_test)\n"
   ]
  },
  {
   "cell_type": "code",
   "execution_count": 9,
   "id": "c8956ea7-ab41-4c55-b9ed-2f02f3ea5d14",
   "metadata": {},
   "outputs": [
    {
     "name": "stdout",
     "output_type": "stream",
     "text": [
      "📊 Linear Regression Model Evaluation:\n",
      "Mean Absolute Error (MAE): 1.3921290349028639\n",
      "R-squared Score: 0.9995154386179766\n"
     ]
    }
   ],
   "source": [
    "from sklearn.linear_model import LinearRegression\n",
    "from sklearn.metrics import mean_absolute_error, r2_score\n",
    "\n",
    "# Initialize and train Linear Regression model\n",
    "model = LinearRegression()\n",
    "model.fit(X_train, y_train)\n",
    "\n",
    "# Predictions\n",
    "y_pred = model.predict(X_test)\n",
    "\n",
    "# Model Evaluation\n",
    "mae = mean_absolute_error(y_test, y_pred)\n",
    "r2 = r2_score(y_test, y_pred)\n",
    "\n",
    "print(f\"📊 Linear Regression Model Evaluation:\")\n",
    "print(f\"Mean Absolute Error (MAE): {mae}\")\n",
    "print(f\"R-squared Score: {r2}\")\n"
   ]
  },
  {
   "cell_type": "code",
   "execution_count": 10,
   "id": "9b2ef929-4560-429b-a427-8f8f01a41c3a",
   "metadata": {},
   "outputs": [
    {
     "name": "stdout",
     "output_type": "stream",
     "text": [
      "📊 Linear Regression MAE: 1.3921290349028639\n"
     ]
    }
   ],
   "source": [
    "from sklearn.metrics import mean_absolute_error\n",
    "\n",
    "# Make predictions\n",
    "y_pred = model.predict(X_test)\n",
    "\n",
    "# Calculate MAE\n",
    "mae = mean_absolute_error(y_test, y_pred)\n",
    "print(f\"📊 Linear Regression MAE: {mae}\")\n"
   ]
  },
  {
   "cell_type": "code",
   "execution_count": 11,
   "id": "76733f07-bf2f-42d3-ac82-8e5863b58828",
   "metadata": {},
   "outputs": [
    {
     "name": "stdout",
     "output_type": "stream",
     "text": [
      "Training MAE: 1.0273459572386916\n"
     ]
    }
   ],
   "source": [
    "train_pred = model.predict(X_train)\n",
    "train_mae = mean_absolute_error(y_train, train_pred)\n",
    "print(f\"Training MAE: {train_mae}\")"
   ]
  },
  {
   "cell_type": "code",
   "execution_count": 12,
   "id": "8e35e4ed-3753-401f-82e9-65649877f62b",
   "metadata": {},
   "outputs": [
    {
     "name": "stdout",
     "output_type": "stream",
     "text": [
      "Cross-Validation MAE: 1.2747429654161526\n"
     ]
    }
   ],
   "source": [
    "from sklearn.model_selection import cross_val_score\n",
    "cv_scores = cross_val_score(model, X_train, y_train, scoring=\"neg_mean_absolute_error\", cv=5)\n",
    "print(f\"Cross-Validation MAE: {-cv_scores.mean()}\")\n"
   ]
  },
  {
   "cell_type": "code",
   "execution_count": 13,
   "id": "5a1c8977-0f9f-4a03-8cbc-728e98ebd0c6",
   "metadata": {},
   "outputs": [
    {
     "name": "stdout",
     "output_type": "stream",
     "text": [
      "\n",
      "🌲 Random Forest Model Evaluation:\n",
      "Mean Absolute Error (MAE): 3.319759528454561\n",
      "R-squared Score: 0.9962462533586379\n"
     ]
    }
   ],
   "source": [
    "from sklearn.ensemble import RandomForestRegressor\n",
    "from sklearn.metrics import mean_absolute_error, r2_score\n",
    "\n",
    "# Initialize and train Random Forest model\n",
    "rf_model = RandomForestRegressor(n_estimators=100, random_state=42)\n",
    "rf_model.fit(X_train, y_train)\n",
    "\n",
    "# Make predictions\n",
    "rf_y_pred = rf_model.predict(X_test)\n",
    "\n",
    "# Evaluate the model\n",
    "rf_mae = mean_absolute_error(y_test, rf_y_pred)\n",
    "rf_r2 = r2_score(y_test, rf_y_pred)\n",
    "\n",
    "print(f\"\\n🌲 Random Forest Model Evaluation:\")\n",
    "print(f\"Mean Absolute Error (MAE): {rf_mae}\")\n",
    "print(f\"R-squared Score: {rf_r2}\")"
   ]
  },
  {
   "cell_type": "code",
   "execution_count": 14,
   "id": "a1298518-421b-47d9-a37f-7bd1e2a8732d",
   "metadata": {},
   "outputs": [
    {
     "name": "stdout",
     "output_type": "stream",
     "text": [
      "🌲 Random Forest MAE: 3.319759528454561\n"
     ]
    }
   ],
   "source": [
    "# Make predictions with Random Forest\n",
    "rf_y_pred = rf_model.predict(X_test)\n",
    "\n",
    "# Calculate MAE\n",
    "rf_mae = mean_absolute_error(y_test, rf_y_pred)\n",
    "print(f\"🌲 Random Forest MAE: {rf_mae}\")"
   ]
  },
  {
   "cell_type": "code",
   "execution_count": 15,
   "id": "86712e34-1adb-4067-9ec1-b138ea80ed25",
   "metadata": {
    "scrolled": true
   },
   "outputs": [
    {
     "name": "stdout",
     "output_type": "stream",
     "text": [
      "Requirement already satisfied: tensorflow in c:\\users\\mohan\\anaconda3\\lib\\site-packages (2.19.0)\n",
      "Requirement already satisfied: keras in c:\\users\\mohan\\anaconda3\\lib\\site-packages (3.9.0)\n",
      "Requirement already satisfied: absl-py>=1.0.0 in c:\\users\\mohan\\anaconda3\\lib\\site-packages (from tensorflow) (2.1.0)\n",
      "Requirement already satisfied: astunparse>=1.6.0 in c:\\users\\mohan\\anaconda3\\lib\\site-packages (from tensorflow) (1.6.3)\n",
      "Requirement already satisfied: flatbuffers>=24.3.25 in c:\\users\\mohan\\anaconda3\\lib\\site-packages (from tensorflow) (25.2.10)\n",
      "Requirement already satisfied: gast!=0.5.0,!=0.5.1,!=0.5.2,>=0.2.1 in c:\\users\\mohan\\anaconda3\\lib\\site-packages (from tensorflow) (0.6.0)\n",
      "Requirement already satisfied: google-pasta>=0.1.1 in c:\\users\\mohan\\anaconda3\\lib\\site-packages (from tensorflow) (0.2.0)\n",
      "Requirement already satisfied: libclang>=13.0.0 in c:\\users\\mohan\\anaconda3\\lib\\site-packages (from tensorflow) (18.1.1)\n",
      "Requirement already satisfied: opt-einsum>=2.3.2 in c:\\users\\mohan\\anaconda3\\lib\\site-packages (from tensorflow) (3.4.0)\n",
      "Requirement already satisfied: packaging in c:\\users\\mohan\\anaconda3\\lib\\site-packages (from tensorflow) (24.1)\n",
      "Requirement already satisfied: protobuf!=4.21.0,!=4.21.1,!=4.21.2,!=4.21.3,!=4.21.4,!=4.21.5,<6.0.0dev,>=3.20.3 in c:\\users\\mohan\\anaconda3\\lib\\site-packages (from tensorflow) (4.25.3)\n",
      "Requirement already satisfied: requests<3,>=2.21.0 in c:\\users\\mohan\\anaconda3\\lib\\site-packages (from tensorflow) (2.32.3)\n",
      "Requirement already satisfied: setuptools in c:\\users\\mohan\\anaconda3\\lib\\site-packages (from tensorflow) (75.1.0)\n",
      "Requirement already satisfied: six>=1.12.0 in c:\\users\\mohan\\anaconda3\\lib\\site-packages (from tensorflow) (1.16.0)\n",
      "Requirement already satisfied: termcolor>=1.1.0 in c:\\users\\mohan\\anaconda3\\lib\\site-packages (from tensorflow) (2.5.0)\n",
      "Requirement already satisfied: typing-extensions>=3.6.6 in c:\\users\\mohan\\anaconda3\\lib\\site-packages (from tensorflow) (4.11.0)\n",
      "Requirement already satisfied: wrapt>=1.11.0 in c:\\users\\mohan\\anaconda3\\lib\\site-packages (from tensorflow) (1.14.1)\n",
      "Requirement already satisfied: grpcio<2.0,>=1.24.3 in c:\\users\\mohan\\anaconda3\\lib\\site-packages (from tensorflow) (1.71.0)\n",
      "Requirement already satisfied: tensorboard~=2.19.0 in c:\\users\\mohan\\anaconda3\\lib\\site-packages (from tensorflow) (2.19.0)\n",
      "Requirement already satisfied: numpy<2.2.0,>=1.26.0 in c:\\users\\mohan\\anaconda3\\lib\\site-packages (from tensorflow) (1.26.4)\n",
      "Requirement already satisfied: h5py>=3.11.0 in c:\\users\\mohan\\anaconda3\\lib\\site-packages (from tensorflow) (3.11.0)\n",
      "Requirement already satisfied: ml-dtypes<1.0.0,>=0.5.1 in c:\\users\\mohan\\anaconda3\\lib\\site-packages (from tensorflow) (0.5.1)\n",
      "Requirement already satisfied: rich in c:\\users\\mohan\\anaconda3\\lib\\site-packages (from keras) (13.7.1)\n",
      "Requirement already satisfied: namex in c:\\users\\mohan\\anaconda3\\lib\\site-packages (from keras) (0.0.8)\n",
      "Requirement already satisfied: optree in c:\\users\\mohan\\anaconda3\\lib\\site-packages (from keras) (0.14.1)\n",
      "Requirement already satisfied: wheel<1.0,>=0.23.0 in c:\\users\\mohan\\anaconda3\\lib\\site-packages (from astunparse>=1.6.0->tensorflow) (0.44.0)\n",
      "Requirement already satisfied: charset-normalizer<4,>=2 in c:\\users\\mohan\\anaconda3\\lib\\site-packages (from requests<3,>=2.21.0->tensorflow) (3.3.2)\n",
      "Requirement already satisfied: idna<4,>=2.5 in c:\\users\\mohan\\anaconda3\\lib\\site-packages (from requests<3,>=2.21.0->tensorflow) (3.7)\n",
      "Requirement already satisfied: urllib3<3,>=1.21.1 in c:\\users\\mohan\\anaconda3\\lib\\site-packages (from requests<3,>=2.21.0->tensorflow) (2.2.3)\n",
      "Requirement already satisfied: certifi>=2017.4.17 in c:\\users\\mohan\\anaconda3\\lib\\site-packages (from requests<3,>=2.21.0->tensorflow) (2024.12.14)\n",
      "Requirement already satisfied: markdown>=2.6.8 in c:\\users\\mohan\\anaconda3\\lib\\site-packages (from tensorboard~=2.19.0->tensorflow) (3.4.1)\n",
      "Requirement already satisfied: tensorboard-data-server<0.8.0,>=0.7.0 in c:\\users\\mohan\\anaconda3\\lib\\site-packages (from tensorboard~=2.19.0->tensorflow) (0.7.2)\n",
      "Requirement already satisfied: werkzeug>=1.0.1 in c:\\users\\mohan\\anaconda3\\lib\\site-packages (from tensorboard~=2.19.0->tensorflow) (3.0.3)\n",
      "Requirement already satisfied: markdown-it-py>=2.2.0 in c:\\users\\mohan\\anaconda3\\lib\\site-packages (from rich->keras) (2.2.0)\n",
      "Requirement already satisfied: pygments<3.0.0,>=2.13.0 in c:\\users\\mohan\\anaconda3\\lib\\site-packages (from rich->keras) (2.15.1)\n",
      "Requirement already satisfied: mdurl~=0.1 in c:\\users\\mohan\\anaconda3\\lib\\site-packages (from markdown-it-py>=2.2.0->rich->keras) (0.1.0)\n",
      "Requirement already satisfied: MarkupSafe>=2.1.1 in c:\\users\\mohan\\anaconda3\\lib\\site-packages (from werkzeug>=1.0.1->tensorboard~=2.19.0->tensorflow) (2.1.3)\n",
      "Note: you may need to restart the kernel to use updated packages.\n"
     ]
    }
   ],
   "source": [
    "pip install tensorflow keras"
   ]
  },
  {
   "cell_type": "code",
   "execution_count": 16,
   "id": "81bd229d-1963-4c40-ad4a-20bb67e68a0d",
   "metadata": {},
   "outputs": [],
   "source": [
    "import numpy as np\n",
    "import tensorflow as tf\n",
    "from tensorflow.keras.models import Sequential\n",
    "from tensorflow.keras.layers import LSTM, Dense, Dropout\n",
    "from sklearn.preprocessing import MinMaxScaler\n",
    "\n",
    "# Scale the features using MinMaxScaler\n",
    "scaler = MinMaxScaler()\n",
    "scaled_data = scaler.fit_transform(data[['Open', 'High', 'Low', 'Close', 'Volume']])\n",
    "\n",
    "# Create sequences for LSTM\n",
    "def create_sequences(data, seq_length=10):\n",
    "    X, y = [], []\n",
    "    for i in range(len(data) - seq_length):\n",
    "        X.append(data[i:i+seq_length])\n",
    "        y.append(data[i+seq_length, 3])  # Target is 'Close' price\n",
    "    return np.array(X), np.array(y)\n",
    "\n",
    "# Define sequence length\n",
    "SEQ_LEN = 10\n",
    "X_lstm, y_lstm = create_sequences(scaled_data, SEQ_LEN)\n",
    "\n",
    "# Split into training and testing sets (80% Train, 20% Test)\n",
    "split = int(0.8 * len(X_lstm))\n",
    "X_train_lstm, X_test_lstm = X_lstm[:split], X_lstm[split:]\n",
    "y_train_lstm, y_test_lstm = y_lstm[:split], y_lstm[split:]\n",
    "\n",
    "# Reshape input to fit LSTM (samples, timesteps, features)\n",
    "X_train_lstm = X_train_lstm.reshape(X_train_lstm.shape[0], X_train_lstm.shape[1], X_train_lstm.shape[2])\n",
    "X_test_lstm = X_test_lstm.reshape(X_test_lstm.shape[0], X_test_lstm.shape[1], X_test_lstm.shape[2])"
   ]
  },
  {
   "cell_type": "code",
   "execution_count": 17,
   "id": "72e31fd3-27e4-4fab-981f-cda36c00abd6",
   "metadata": {
    "scrolled": true
   },
   "outputs": [
    {
     "name": "stdout",
     "output_type": "stream",
     "text": [
      "Epoch 1/50\n"
     ]
    },
    {
     "name": "stderr",
     "output_type": "stream",
     "text": [
      "C:\\Users\\mohan\\anaconda3\\Lib\\site-packages\\keras\\src\\layers\\rnn\\rnn.py:200: UserWarning: Do not pass an `input_shape`/`input_dim` argument to a layer. When using Sequential models, prefer using an `Input(shape)` object as the first layer in the model instead.\n",
      "  super().__init__(**kwargs)\n"
     ]
    },
    {
     "name": "stdout",
     "output_type": "stream",
     "text": [
      "\u001b[1m2/2\u001b[0m \u001b[32m━━━━━━━━━━━━━━━━━━━━\u001b[0m\u001b[37m\u001b[0m \u001b[1m4s\u001b[0m 422ms/step - loss: 0.6199 - val_loss: 0.0906\n",
      "Epoch 2/50\n",
      "\u001b[1m2/2\u001b[0m \u001b[32m━━━━━━━━━━━━━━━━━━━━\u001b[0m\u001b[37m\u001b[0m \u001b[1m0s\u001b[0m 74ms/step - loss: 0.5196 - val_loss: 0.1252\n",
      "Epoch 3/50\n",
      "\u001b[1m2/2\u001b[0m \u001b[32m━━━━━━━━━━━━━━━━━━━━\u001b[0m\u001b[37m\u001b[0m \u001b[1m0s\u001b[0m 62ms/step - loss: 0.4496 - val_loss: 0.1943\n",
      "Epoch 4/50\n",
      "\u001b[1m2/2\u001b[0m \u001b[32m━━━━━━━━━━━━━━━━━━━━\u001b[0m\u001b[37m\u001b[0m \u001b[1m0s\u001b[0m 71ms/step - loss: 0.3522 - val_loss: 0.2593\n",
      "Epoch 5/50\n",
      "\u001b[1m2/2\u001b[0m \u001b[32m━━━━━━━━━━━━━━━━━━━━\u001b[0m\u001b[37m\u001b[0m \u001b[1m0s\u001b[0m 77ms/step - loss: 0.2600 - val_loss: 0.2977\n",
      "Epoch 6/50\n",
      "\u001b[1m2/2\u001b[0m \u001b[32m━━━━━━━━━━━━━━━━━━━━\u001b[0m\u001b[37m\u001b[0m \u001b[1m0s\u001b[0m 64ms/step - loss: 0.2398 - val_loss: 0.3411\n",
      "Epoch 7/50\n",
      "\u001b[1m2/2\u001b[0m \u001b[32m━━━━━━━━━━━━━━━━━━━━\u001b[0m\u001b[37m\u001b[0m \u001b[1m0s\u001b[0m 62ms/step - loss: 0.2270 - val_loss: 0.3942\n",
      "Epoch 8/50\n",
      "\u001b[1m2/2\u001b[0m \u001b[32m━━━━━━━━━━━━━━━━━━━━\u001b[0m\u001b[37m\u001b[0m \u001b[1m0s\u001b[0m 72ms/step - loss: 0.2786 - val_loss: 0.4129\n",
      "Epoch 9/50\n",
      "\u001b[1m2/2\u001b[0m \u001b[32m━━━━━━━━━━━━━━━━━━━━\u001b[0m\u001b[37m\u001b[0m \u001b[1m0s\u001b[0m 72ms/step - loss: 0.2978 - val_loss: 0.3788\n",
      "Epoch 10/50\n",
      "\u001b[1m2/2\u001b[0m \u001b[32m━━━━━━━━━━━━━━━━━━━━\u001b[0m\u001b[37m\u001b[0m \u001b[1m0s\u001b[0m 61ms/step - loss: 0.2146 - val_loss: 0.3440\n",
      "Epoch 11/50\n",
      "\u001b[1m2/2\u001b[0m \u001b[32m━━━━━━━━━━━━━━━━━━━━\u001b[0m\u001b[37m\u001b[0m \u001b[1m0s\u001b[0m 70ms/step - loss: 0.2290 - val_loss: 0.3353\n",
      "Epoch 12/50\n",
      "\u001b[1m2/2\u001b[0m \u001b[32m━━━━━━━━━━━━━━━━━━━━\u001b[0m\u001b[37m\u001b[0m \u001b[1m0s\u001b[0m 70ms/step - loss: 0.2234 - val_loss: 0.3472\n",
      "Epoch 13/50\n",
      "\u001b[1m2/2\u001b[0m \u001b[32m━━━━━━━━━━━━━━━━━━━━\u001b[0m\u001b[37m\u001b[0m \u001b[1m0s\u001b[0m 66ms/step - loss: 0.2191 - val_loss: 0.3733\n",
      "Epoch 14/50\n",
      "\u001b[1m2/2\u001b[0m \u001b[32m━━━━━━━━━━━━━━━━━━━━\u001b[0m\u001b[37m\u001b[0m \u001b[1m0s\u001b[0m 60ms/step - loss: 0.2389 - val_loss: 0.4025\n",
      "Epoch 15/50\n",
      "\u001b[1m2/2\u001b[0m \u001b[32m━━━━━━━━━━━━━━━━━━━━\u001b[0m\u001b[37m\u001b[0m \u001b[1m0s\u001b[0m 70ms/step - loss: 0.2740 - val_loss: 0.4241\n",
      "Epoch 16/50\n",
      "\u001b[1m2/2\u001b[0m \u001b[32m━━━━━━━━━━━━━━━━━━━━\u001b[0m\u001b[37m\u001b[0m \u001b[1m0s\u001b[0m 74ms/step - loss: 0.3206 - val_loss: 0.4143\n",
      "Epoch 17/50\n",
      "\u001b[1m2/2\u001b[0m \u001b[32m━━━━━━━━━━━━━━━━━━━━\u001b[0m\u001b[37m\u001b[0m \u001b[1m0s\u001b[0m 69ms/step - loss: 0.2761 - val_loss: 0.3711\n",
      "Epoch 18/50\n",
      "\u001b[1m2/2\u001b[0m \u001b[32m━━━━━━━━━━━━━━━━━━━━\u001b[0m\u001b[37m\u001b[0m \u001b[1m0s\u001b[0m 67ms/step - loss: 0.2171 - val_loss: 0.3307\n",
      "Epoch 19/50\n",
      "\u001b[1m2/2\u001b[0m \u001b[32m━━━━━━━━━━━━━━━━━━━━\u001b[0m\u001b[37m\u001b[0m \u001b[1m0s\u001b[0m 64ms/step - loss: 0.2156 - val_loss: 0.3138\n",
      "Epoch 20/50\n",
      "\u001b[1m2/2\u001b[0m \u001b[32m━━━━━━━━━━━━━━━━━━━━\u001b[0m\u001b[37m\u001b[0m \u001b[1m0s\u001b[0m 76ms/step - loss: 0.2318 - val_loss: 0.3208\n",
      "Epoch 21/50\n",
      "\u001b[1m2/2\u001b[0m \u001b[32m━━━━━━━━━━━━━━━━━━━━\u001b[0m\u001b[37m\u001b[0m \u001b[1m0s\u001b[0m 76ms/step - loss: 0.1891 - val_loss: 0.3499\n",
      "Epoch 22/50\n",
      "\u001b[1m2/2\u001b[0m \u001b[32m━━━━━━━━━━━━━━━━━━━━\u001b[0m\u001b[37m\u001b[0m \u001b[1m0s\u001b[0m 69ms/step - loss: 0.2142 - val_loss: 0.3937\n",
      "Epoch 23/50\n",
      "\u001b[1m2/2\u001b[0m \u001b[32m━━━━━━━━━━━━━━━━━━━━\u001b[0m\u001b[37m\u001b[0m \u001b[1m0s\u001b[0m 64ms/step - loss: 0.2304 - val_loss: 0.4357\n",
      "Epoch 24/50\n",
      "\u001b[1m2/2\u001b[0m \u001b[32m━━━━━━━━━━━━━━━━━━━━\u001b[0m\u001b[37m\u001b[0m \u001b[1m0s\u001b[0m 66ms/step - loss: 0.2519 - val_loss: 0.4721\n",
      "Epoch 25/50\n",
      "\u001b[1m2/2\u001b[0m \u001b[32m━━━━━━━━━━━━━━━━━━━━\u001b[0m\u001b[37m\u001b[0m \u001b[1m0s\u001b[0m 64ms/step - loss: 0.3427 - val_loss: 0.4771\n",
      "Epoch 26/50\n",
      "\u001b[1m2/2\u001b[0m \u001b[32m━━━━━━━━━━━━━━━━━━━━\u001b[0m\u001b[37m\u001b[0m \u001b[1m0s\u001b[0m 71ms/step - loss: 0.3061 - val_loss: 0.4431\n",
      "Epoch 27/50\n",
      "\u001b[1m2/2\u001b[0m \u001b[32m━━━━━━━━━━━━━━━━━━━━\u001b[0m\u001b[37m\u001b[0m \u001b[1m0s\u001b[0m 67ms/step - loss: 0.2745 - val_loss: 0.4045\n",
      "Epoch 28/50\n",
      "\u001b[1m2/2\u001b[0m \u001b[32m━━━━━━━━━━━━━━━━━━━━\u001b[0m\u001b[37m\u001b[0m \u001b[1m0s\u001b[0m 61ms/step - loss: 0.2164 - val_loss: 0.3697\n",
      "Epoch 29/50\n",
      "\u001b[1m2/2\u001b[0m \u001b[32m━━━━━━━━━━━━━━━━━━━━\u001b[0m\u001b[37m\u001b[0m \u001b[1m0s\u001b[0m 65ms/step - loss: 0.1979 - val_loss: 0.3311\n",
      "Epoch 30/50\n",
      "\u001b[1m2/2\u001b[0m \u001b[32m━━━━━━━━━━━━━━━━━━━━\u001b[0m\u001b[37m\u001b[0m \u001b[1m0s\u001b[0m 63ms/step - loss: 0.1989 - val_loss: 0.2952\n",
      "Epoch 31/50\n",
      "\u001b[1m2/2\u001b[0m \u001b[32m━━━━━━━━━━━━━━━━━━━━\u001b[0m\u001b[37m\u001b[0m \u001b[1m0s\u001b[0m 73ms/step - loss: 0.2491 - val_loss: 0.2646\n",
      "Epoch 32/50\n",
      "\u001b[1m2/2\u001b[0m \u001b[32m━━━━━━━━━━━━━━━━━━━━\u001b[0m\u001b[37m\u001b[0m \u001b[1m0s\u001b[0m 68ms/step - loss: 0.3159 - val_loss: 0.2491\n",
      "Epoch 33/50\n",
      "\u001b[1m2/2\u001b[0m \u001b[32m━━━━━━━━━━━━━━━━━━━━\u001b[0m\u001b[37m\u001b[0m \u001b[1m0s\u001b[0m 73ms/step - loss: 0.3265 - val_loss: 0.2533\n",
      "Epoch 34/50\n",
      "\u001b[1m2/2\u001b[0m \u001b[32m━━━━━━━━━━━━━━━━━━━━\u001b[0m\u001b[37m\u001b[0m \u001b[1m0s\u001b[0m 65ms/step - loss: 0.2969 - val_loss: 0.2733\n",
      "Epoch 35/50\n",
      "\u001b[1m2/2\u001b[0m \u001b[32m━━━━━━━━━━━━━━━━━━━━\u001b[0m\u001b[37m\u001b[0m \u001b[1m0s\u001b[0m 62ms/step - loss: 0.2993 - val_loss: 0.3075\n",
      "Epoch 36/50\n",
      "\u001b[1m2/2\u001b[0m \u001b[32m━━━━━━━━━━━━━━━━━━━━\u001b[0m\u001b[37m\u001b[0m \u001b[1m0s\u001b[0m 62ms/step - loss: 0.2334 - val_loss: 0.3563\n",
      "Epoch 37/50\n",
      "\u001b[1m2/2\u001b[0m \u001b[32m━━━━━━━━━━━━━━━━━━━━\u001b[0m\u001b[37m\u001b[0m \u001b[1m0s\u001b[0m 68ms/step - loss: 0.2092 - val_loss: 0.3978\n",
      "Epoch 38/50\n",
      "\u001b[1m2/2\u001b[0m \u001b[32m━━━━━━━━━━━━━━━━━━━━\u001b[0m\u001b[37m\u001b[0m \u001b[1m0s\u001b[0m 71ms/step - loss: 0.2200 - val_loss: 0.4250\n",
      "Epoch 39/50\n",
      "\u001b[1m2/2\u001b[0m \u001b[32m━━━━━━━━━━━━━━━━━━━━\u001b[0m\u001b[37m\u001b[0m \u001b[1m0s\u001b[0m 72ms/step - loss: 0.2294 - val_loss: 0.4351\n",
      "Epoch 40/50\n",
      "\u001b[1m2/2\u001b[0m \u001b[32m━━━━━━━━━━━━━━━━━━━━\u001b[0m\u001b[37m\u001b[0m \u001b[1m0s\u001b[0m 65ms/step - loss: 0.2390 - val_loss: 0.4128\n",
      "Epoch 41/50\n",
      "\u001b[1m2/2\u001b[0m \u001b[32m━━━━━━━━━━━━━━━━━━━━\u001b[0m\u001b[37m\u001b[0m \u001b[1m0s\u001b[0m 66ms/step - loss: 0.2054 - val_loss: 0.3723\n",
      "Epoch 42/50\n",
      "\u001b[1m2/2\u001b[0m \u001b[32m━━━━━━━━━━━━━━━━━━━━\u001b[0m\u001b[37m\u001b[0m \u001b[1m0s\u001b[0m 66ms/step - loss: 0.2128 - val_loss: 0.3401\n",
      "Epoch 43/50\n",
      "\u001b[1m2/2\u001b[0m \u001b[32m━━━━━━━━━━━━━━━━━━━━\u001b[0m\u001b[37m\u001b[0m \u001b[1m0s\u001b[0m 63ms/step - loss: 0.1804 - val_loss: 0.3322\n",
      "Epoch 44/50\n",
      "\u001b[1m2/2\u001b[0m \u001b[32m━━━━━━━━━━━━━━━━━━━━\u001b[0m\u001b[37m\u001b[0m \u001b[1m0s\u001b[0m 63ms/step - loss: 0.2487 - val_loss: 0.3288\n",
      "Epoch 45/50\n",
      "\u001b[1m2/2\u001b[0m \u001b[32m━━━━━━━━━━━━━━━━━━━━\u001b[0m\u001b[37m\u001b[0m \u001b[1m0s\u001b[0m 77ms/step - loss: 0.2030 - val_loss: 0.3193\n",
      "Epoch 46/50\n",
      "\u001b[1m2/2\u001b[0m \u001b[32m━━━━━━━━━━━━━━━━━━━━\u001b[0m\u001b[37m\u001b[0m \u001b[1m0s\u001b[0m 88ms/step - loss: 0.2281 - val_loss: 0.3154\n",
      "Epoch 47/50\n",
      "\u001b[1m2/2\u001b[0m \u001b[32m━━━━━━━━━━━━━━━━━━━━\u001b[0m\u001b[37m\u001b[0m \u001b[1m0s\u001b[0m 79ms/step - loss: 0.2282 - val_loss: 0.3282\n",
      "Epoch 48/50\n",
      "\u001b[1m2/2\u001b[0m \u001b[32m━━━━━━━━━━━━━━━━━━━━\u001b[0m\u001b[37m\u001b[0m \u001b[1m0s\u001b[0m 67ms/step - loss: 0.2302 - val_loss: 0.3548\n",
      "Epoch 49/50\n",
      "\u001b[1m2/2\u001b[0m \u001b[32m━━━━━━━━━━━━━━━━━━━━\u001b[0m\u001b[37m\u001b[0m \u001b[1m0s\u001b[0m 70ms/step - loss: 0.2026 - val_loss: 0.3779\n",
      "Epoch 50/50\n",
      "\u001b[1m2/2\u001b[0m \u001b[32m━━━━━━━━━━━━━━━━━━━━\u001b[0m\u001b[37m\u001b[0m \u001b[1m0s\u001b[0m 88ms/step - loss: 0.2010 - val_loss: 0.3829\n"
     ]
    }
   ],
   "source": [
    "import numpy as np\n",
    "import tensorflow as tf\n",
    "from tensorflow.keras.models import Sequential\n",
    "from tensorflow.keras.layers import LSTM, Dense, Dropout\n",
    "from sklearn.preprocessing import MinMaxScaler\n",
    "\n",
    "# Set sequence length\n",
    "SEQ_LEN = 10  # Define how many past days we use for prediction\n",
    "\n",
    "# Scale the features using MinMaxScaler\n",
    "scaler = MinMaxScaler()\n",
    "scaled_data = scaler.fit_transform(data[['Open', 'High', 'Low', 'Close', 'Volume']])\n",
    "\n",
    "# Create sequences for LSTM\n",
    "def create_sequences(data, seq_length=SEQ_LEN):\n",
    "    X, y = [], []\n",
    "    for i in range(len(data) - seq_length):\n",
    "        X.append(data[i:i+seq_length])\n",
    "        y.append(data[i+seq_length, 3])  # Target is 'Close' price\n",
    "    return np.array(X), np.array(y)\n",
    "\n",
    "# Prepare LSTM dataset\n",
    "X_lstm, y_lstm = create_sequences(scaled_data)\n",
    "\n",
    "# Split into training and testing sets\n",
    "split = int(0.8 * len(X_lstm))\n",
    "X_train_lstm, X_test_lstm = X_lstm[:split], X_lstm[split:]\n",
    "y_train_lstm, y_test_lstm = y_lstm[:split], y_lstm[split:]\n",
    "\n",
    "# Reshape input to fit LSTM (samples, timesteps, features)\n",
    "X_train_lstm = X_train_lstm.reshape(X_train_lstm.shape[0], X_train_lstm.shape[1], X_train_lstm.shape[2])\n",
    "X_test_lstm = X_test_lstm.reshape(X_test_lstm.shape[0], X_test_lstm.shape[1], X_test_lstm.shape[2])\n",
    "\n",
    "# Define LSTM Model\n",
    "model_lstm = Sequential([\n",
    "    LSTM(units=50, return_sequences=True, input_shape=(SEQ_LEN, X_train_lstm.shape[2])),\n",
    "    Dropout(0.2),\n",
    "    LSTM(units=50, return_sequences=False),\n",
    "    Dropout(0.2),\n",
    "    Dense(units=25),\n",
    "    Dense(units=1)  # Output layer for predicting stock price\n",
    "])\n",
    "\n",
    "# Compile model\n",
    "model_lstm.compile(optimizer='adam', loss='mean_absolute_error')\n",
    "\n",
    "# Train model\n",
    "history = model_lstm.fit(X_train_lstm, y_train_lstm, epochs=50, batch_size=32, validation_data=(X_test_lstm, y_test_lstm))\n"
   ]
  },
  {
   "cell_type": "code",
   "execution_count": 18,
   "id": "5d794781-6863-4acb-acc4-c016cdaa2fd3",
   "metadata": {},
   "outputs": [
    {
     "name": "stdout",
     "output_type": "stream",
     "text": [
      "\u001b[1m1/1\u001b[0m \u001b[32m━━━━━━━━━━━━━━━━━━━━\u001b[0m\u001b[37m\u001b[0m \u001b[1m0s\u001b[0m 287ms/step\n",
      "\n",
      "🔵 LSTM Model Evaluation:\n",
      "Mean Absolute Error (MAE): 41902476.69789348\n"
     ]
    }
   ],
   "source": [
    "# Make predictions\n",
    "lstm_y_pred = model_lstm.predict(X_test_lstm)\n",
    "\n",
    "# Reverse scaling to get original price values\n",
    "lstm_y_pred = scaler.inverse_transform(np.hstack((X_test_lstm[:, -1, :-1], lstm_y_pred.reshape(-1, 1))))[:, -1]\n",
    "y_test_lstm_orig = scaler.inverse_transform(np.hstack((X_test_lstm[:, -1, :-1], y_test_lstm.reshape(-1, 1))))[:, -1]\n",
    "\n",
    "# Calculate MAE for LSTM\n",
    "from sklearn.metrics import mean_absolute_error\n",
    "lstm_mae = mean_absolute_error(y_test_lstm_orig, lstm_y_pred)\n",
    "print(f\"\\n🔵 LSTM Model Evaluation:\")\n",
    "print(f\"Mean Absolute Error (MAE): {lstm_mae}\")\n"
   ]
  },
  {
   "cell_type": "code",
   "execution_count": 19,
   "id": "d158b03e-ccf5-4ac6-a529-617c284e75fb",
   "metadata": {},
   "outputs": [
    {
     "name": "stdout",
     "output_type": "stream",
     "text": [
      "\n",
      "📌 Model Comparison:\n",
      "Linear Regression MAE: 1.3921290349028639\n",
      "Random Forest MAE: 3.319759528454561\n",
      "LSTM MAE: 41902476.69789348\n"
     ]
    }
   ],
   "source": [
    "print(f\"\\n📌 Model Comparison:\")\n",
    "print(f\"Linear Regression MAE: {mae}\")\n",
    "print(f\"Random Forest MAE: {rf_mae}\")\n",
    "print(f\"LSTM MAE: {lstm_mae}\")"
   ]
  },
  {
   "cell_type": "code",
   "execution_count": 20,
   "id": "5a357fb5-1b5d-46d8-b826-78eb2a428e17",
   "metadata": {},
   "outputs": [
    {
     "name": "stdout",
     "output_type": "stream",
     "text": [
      "\n",
      "📌 Model Comparison (After Fixes):\n",
      "Linear Regression MAE: 1.3921290349028639\n",
      "Random Forest MAE: 3.319759528454561\n",
      "LSTM Fixed MAE: 41902476.69789348\n"
     ]
    }
   ],
   "source": [
    "print(f\"\\n📌 Model Comparison (After Fixes):\")\n",
    "print(f\"Linear Regression MAE: {mae}\")      \n",
    "print(f\"Random Forest MAE: {rf_mae}\")      \n",
    "print(f\"LSTM Fixed MAE: {lstm_mae}\")       "
   ]
  },
  {
   "cell_type": "code",
   "execution_count": 21,
   "id": "406420ac-ee56-4962-b0b7-3b34ac39f675",
   "metadata": {},
   "outputs": [
    {
     "name": "stdout",
     "output_type": "stream",
     "text": [
      "✅ Model and scaler saved successfully!\n"
     ]
    }
   ],
   "source": [
    "import joblib\n",
    "\n",
    "# Save the trained Linear Regression model\n",
    "joblib.dump(model, \"linear_regression_stock_model.pkl\")\n",
    "\n",
    "# Save the scaler (for feature scaling in future predictions)\n",
    "joblib.dump(scaler, \"scaler.pkl\")\n",
    "\n",
    "print(\"✅ Model and scaler saved successfully!\")\n"
   ]
  },
  {
   "cell_type": "code",
   "execution_count": 22,
   "id": "3df79ec9-845c-4f0f-b481-da2971a76d59",
   "metadata": {},
   "outputs": [
    {
     "name": "stdout",
     "output_type": "stream",
     "text": [
      "['.ipynb_checkpoints', 'app.py', 'linear_regression_stock_model.pkl', 'predictionOUTPUT.ipynb', 'Project1 stock_marke_analysis&prediction.ipynb', 'scaler.pkl', 'stocks.csv']\n"
     ]
    }
   ],
   "source": [
    "import os\n",
    "print(os.listdir())  # This should show the saved model files"
   ]
  },
  {
   "cell_type": "code",
   "execution_count": 23,
   "id": "fc9fd9d3-7a1a-4cce-82dd-856c96a22798",
   "metadata": {},
   "outputs": [
    {
     "name": "stdout",
     "output_type": "stream",
     "text": [
      "✅ Scaler refitted and saved correctly!\n"
     ]
    }
   ],
   "source": [
    "from sklearn.preprocessing import MinMaxScaler\n",
    "\n",
    "# Refit the scaler using only the features used in model training (without 'Close')\n",
    "scaler = MinMaxScaler()\n",
    "scaler.fit(data[['Open', 'High', 'Low', 'Volume']])  # Exclude 'Close'\n",
    "\n",
    "# Save the corrected scaler\n",
    "import joblib\n",
    "joblib.dump(scaler, \"scaler.pkl\")\n",
    "\n",
    "print(\"✅ Scaler refitted and saved correctly!\")\n"
   ]
  },
  {
   "cell_type": "code",
   "execution_count": 24,
   "id": "f2a11d13-141b-436c-9222-793e4da9c563",
   "metadata": {},
   "outputs": [
    {
     "name": "stdout",
     "output_type": "stream",
     "text": [
      "📈 Predicted Closing Price: 254.60852130235807\n"
     ]
    }
   ],
   "source": [
    "import pandas as pd\n",
    "import joblib\n",
    "\n",
    "# Load the corrected scaler & model\n",
    "scaler = joblib.load(\"scaler.pkl\")\n",
    "loaded_model = joblib.load(\"linear_regression_stock_model.pkl\")\n",
    "\n",
    "# Example new stock data (Without 'Close')\n",
    "new_data = pd.DataFrame({\n",
    "    'Open': [160],  \n",
    "    'High': [165],  \n",
    "    'Low': [158],  \n",
    "    'Volume': [4500000]  \n",
    "})\n",
    "\n",
    "# Transform new data\n",
    "scaled_new_data = scaler.transform(new_data)\n",
    "\n",
    "# Predict closing price\n",
    "predicted_price = loaded_model.predict(scaled_new_data)\n",
    "\n",
    "print(f\"📈 Predicted Closing Price: {predicted_price[0]}\")\n"
   ]
  },
  {
   "cell_type": "markdown",
   "id": "550dca8a-4f30-4c39-937c-604eb489020e",
   "metadata": {},
   "source": [
    "Evaluate Model Performance (Final Check)"
   ]
  },
  {
   "cell_type": "code",
   "execution_count": 26,
   "id": "3bb6174d-ccc0-465b-978c-7a4998dff255",
   "metadata": {},
   "outputs": [
    {
     "name": "stdout",
     "output_type": "stream",
     "text": [
      "📊 Final Model Performance:\n",
      "✅ Mean Absolute Error (MAE): 1.3921290349028639\n",
      "✅ R² Score: 0.9995154386179766\n"
     ]
    }
   ],
   "source": [
    "from sklearn.metrics import mean_absolute_error, r2_score\n",
    "\n",
    "# Predict on test data\n",
    "y_pred = loaded_model.predict(X_test)\n",
    "\n",
    "# Calculate evaluation metrics\n",
    "mae = mean_absolute_error(y_test, y_pred)\n",
    "r2 = r2_score(y_test, y_pred)\n",
    "\n",
    "print(f\"📊 Final Model Performance:\")\n",
    "print(f\"✅ Mean Absolute Error (MAE): {mae}\")\n",
    "print(f\"✅ R² Score: {r2}\")\n"
   ]
  },
  {
   "cell_type": "code",
   "execution_count": 27,
   "id": "36e2cfb2-28af-4cd1-a05f-afff1ba1ae5d",
   "metadata": {},
   "outputs": [
    {
     "name": "stdout",
     "output_type": "stream",
     "text": [
      "Requirement already satisfied: flask in c:\\users\\mohan\\anaconda3\\lib\\site-packages (3.0.3)\n",
      "Requirement already satisfied: flask-cors in c:\\users\\mohan\\anaconda3\\lib\\site-packages (5.0.1)\n",
      "Requirement already satisfied: Werkzeug>=3.0.0 in c:\\users\\mohan\\anaconda3\\lib\\site-packages (from flask) (3.0.3)\n",
      "Requirement already satisfied: Jinja2>=3.1.2 in c:\\users\\mohan\\anaconda3\\lib\\site-packages (from flask) (3.1.4)\n",
      "Requirement already satisfied: itsdangerous>=2.1.2 in c:\\users\\mohan\\anaconda3\\lib\\site-packages (from flask) (2.2.0)\n",
      "Requirement already satisfied: click>=8.1.3 in c:\\users\\mohan\\anaconda3\\lib\\site-packages (from flask) (8.1.7)\n",
      "Requirement already satisfied: blinker>=1.6.2 in c:\\users\\mohan\\anaconda3\\lib\\site-packages (from flask) (1.6.2)\n",
      "Requirement already satisfied: colorama in c:\\users\\mohan\\anaconda3\\lib\\site-packages (from click>=8.1.3->flask) (0.4.6)\n",
      "Requirement already satisfied: MarkupSafe>=2.0 in c:\\users\\mohan\\anaconda3\\lib\\site-packages (from Jinja2>=3.1.2->flask) (2.1.3)\n"
     ]
    }
   ],
   "source": [
    "!pip install flask flask-cors"
   ]
  },
  {
   "cell_type": "markdown",
   "id": "59790b5d-d0fc-442d-9ca2-b2ff156a7ba8",
   "metadata": {},
   "source": [
    "deploying the model on flask using API"
   ]
  },
  {
   "cell_type": "code",
   "execution_count": null,
   "id": "001d0daa-2dcc-41aa-8016-5bf4af52efe2",
   "metadata": {},
   "outputs": [
    {
     "name": "stdout",
     "output_type": "stream",
     "text": [
      " * Serving Flask app '__main__'\n",
      " * Debug mode: off\n"
     ]
    },
    {
     "name": "stderr",
     "output_type": "stream",
     "text": [
      "WARNING: This is a development server. Do not use it in a production deployment. Use a production WSGI server instead.\n",
      " * Running on http://127.0.0.1:5000\n",
      "Press CTRL+C to quit\n",
      "127.0.0.1 - - [26/Mar/2025 19:18:45] \"GET / HTTP/1.1\" 404 -\n",
      "127.0.0.1 - - [26/Mar/2025 19:18:45] \"GET /favicon.ico HTTP/1.1\" 404 -\n",
      "127.0.0.1 - - [26/Mar/2025 19:20:07] \"GET / HTTP/1.1\" 404 -\n",
      "127.0.0.1 - - [26/Mar/2025 19:25:30] \"GET /predict HTTP/1.1\" 405 -\n"
     ]
    }
   ],
   "source": [
    "from flask import Flask, request, jsonify\n",
    "from flask_cors import CORS\n",
    "import joblib\n",
    "import numpy as np\n",
    "import pandas as pd\n",
    "\n",
    "# Load the trained model & scaler\n",
    "model = joblib.load(\"linear_regression_stock_model.pkl\")\n",
    "scaler = joblib.load(\"scaler.pkl\")\n",
    "\n",
    "# Initialize Flask app\n",
    "app = Flask(__name__)\n",
    "CORS(app)  # Enable CORS\n",
    "\n",
    "@app.route('/predict', methods=['POST'])\n",
    "def predict():\n",
    "    try:\n",
    "        print(\"📩 Received a request\")  # Debugging message\n",
    "\n",
    "        # Get JSON data from user input\n",
    "        data = request.get_json()\n",
    "        print(\"🔍 Data received:\", data)  # Debugging step\n",
    "\n",
    "        # Required features\n",
    "        required_features = ['Open', 'High', 'Low', 'Volume']\n",
    "\n",
    "        # Check if all required features are in the request\n",
    "        if not all(feature in data for feature in required_features):\n",
    "            return jsonify({'error': f'Missing features. Required: {required_features}'})\n",
    "\n",
    "        # Convert input data into DataFrame\n",
    "        df = pd.DataFrame([data])\n",
    "        print(\"📊 Converted DataFrame:\\n\", df)  # Debugging step\n",
    "\n",
    "        # Select only required columns\n",
    "        df = df[required_features]\n",
    "\n",
    "        # Scale the input features\n",
    "        scaled_features = scaler.transform(df)\n",
    "        print(\"⚙️ Scaled Features:\", scaled_features)  # Debugging step\n",
    "\n",
    "        # Make prediction\n",
    "        prediction = model.predict(scaled_features)\n",
    "        print(\"📈 Prediction:\", prediction[0])  # Debugging step\n",
    "\n",
    "        # Return predicted price\n",
    "        return jsonify({'Predicted Closing Price': float(prediction[0])})\n",
    "\n",
    "    except Exception as e:\n",
    "        print(\"❌ Error:\", str(e))  # Debugging step\n",
    "        return jsonify({'error': str(e)})\n",
    "\n",
    "# Run Flask (disable auto-reload in Jupyter)\n",
    "if __name__ == '__main__':\n",
    "    app.run(debug=False, use_reloader=False)\n",
    "@app.route('/predict', methods=['POST'])\n",
    "def predict():\n",
    "    try:\n",
    "        print(\"📩 Received a request!\")  # Debugging message\n",
    "\n",
    "        # Get JSON data from user input\n",
    "        data = request.get_json()\n",
    "        print(\"🔍 Data received:\", data)  # Debugging step\n",
    "\n",
    "        # Check if data is empty\n",
    "        if not data:\n",
    "            return jsonify({'error': 'No data received. Ensure the request has a JSON body.'})\n",
    "\n",
    "        # Required features\n",
    "        required_features = ['Open', 'High', 'Low', 'Volume']\n",
    "\n",
    "        # Check if all required features are present\n",
    "        if not all(feature in data for feature in required_features):\n",
    "            return jsonify({'error': f'Missing features. Required: {required_features}'})\n",
    "\n",
    "        # Convert input data into DataFrame\n",
    "        df = pd.DataFrame([data])\n",
    "        print(\"📊 Converted DataFrame:\\n\", df)  # Debugging step\n",
    "\n",
    "        # Scale the input features\n",
    "        scaled_features = scaler.transform(df)\n",
    "        print(\"⚙️ Scaled Features:\", scaled_features)  # Debugging step\n",
    "\n",
    "        # Make prediction\n",
    "        prediction = model.predict(scaled_features)\n",
    "        print(\"📈 Prediction:\", prediction[0])  # Debugging step\n",
    "\n",
    "        # Return predicted price\n",
    "        return jsonify({'Predicted Closing Price': float(prediction[0])})\n",
    "\n",
    "    except Exception as e:\n",
    "        print(\"❌ Error:\", str(e))  # Debugging step\n",
    "        return jsonify({'error': str(e)})\n"
   ]
  },
  {
   "cell_type": "code",
   "execution_count": null,
   "id": "74283d6a-75c3-45ed-bc43-37ad43c6484f",
   "metadata": {},
   "outputs": [],
   "source": [
    "import requests\n",
    "\n",
    "# Flask API URL\n",
    "url = \"http://127.0.0.1:5000/predict\"\n",
    "\n",
    "# Example stock data (ensure the keys match what the model expects)\n",
    "new_stock = {\n",
    "    \"Open\": 160,\n",
    "    \"High\": 165,\n",
    "    \"Low\": 158,\n",
    "    \"Volume\": 4500000\n",
    "}\n",
    "\n",
    "# Send a POST request\n",
    "response = requests.post(url, json=new_stock)\n",
    "\n",
    "# Print the API response\n",
    "print(response.json())  # Should return the predicted closing price\n"
   ]
  },
  {
   "cell_type": "code",
   "execution_count": null,
   "id": "34b450ca-d440-49db-80cc-4d43a022539e",
   "metadata": {},
   "outputs": [],
   "source": [
    "!netstat -ano | findstr :5000"
   ]
  },
  {
   "cell_type": "code",
   "execution_count": null,
   "id": "33ceb01d-051c-4a5d-a9e5-fd011130533a",
   "metadata": {},
   "outputs": [],
   "source": []
  }
 ],
 "metadata": {
  "kernelspec": {
   "display_name": "Python [conda env:base] *",
   "language": "python",
   "name": "conda-base-py"
  },
  "language_info": {
   "codemirror_mode": {
    "name": "ipython",
    "version": 3
   },
   "file_extension": ".py",
   "mimetype": "text/x-python",
   "name": "python",
   "nbconvert_exporter": "python",
   "pygments_lexer": "ipython3",
   "version": "3.12.7"
  }
 },
 "nbformat": 4,
 "nbformat_minor": 5
}
