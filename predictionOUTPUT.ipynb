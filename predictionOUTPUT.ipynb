{
 "cells": [
  {
   "cell_type": "code",
   "execution_count": 1,
   "id": "c71dc081-2978-42a1-80eb-5625a16f0b69",
   "metadata": {},
   "outputs": [
    {
     "name": "stdout",
     "output_type": "stream",
     "text": [
      "{'Predicted Closing Price': 254.60852130235807}\n"
     ]
    }
   ],
   "source": [
    "import requests\n",
    "\n",
    "# API endpoint\n",
    "url = \"http://127.0.0.1:5000/predict\"\n",
    "\n",
    "# Example stock market data to send in the request\n",
    "data = {\n",
    "    \"Open\": 160,\n",
    "    \"High\": 165,\n",
    "    \"Low\": 158,\n",
    "    \"Volume\": 4500000\n",
    "}\n",
    "\n",
    "# Send POST request to Flask API\n",
    "response = requests.post(url, json=data)\n",
    "\n",
    "# Print API response\n",
    "print(response.json())  # Expected output: {'Predicted Closing Price': some_value}\n",
    "    "
   ]
  },
  {
   "cell_type": "code",
   "execution_count": null,
   "id": "58464b9c-3f55-4275-a3bf-41b49cf46c69",
   "metadata": {},
   "outputs": [],
   "source": []
  }
 ],
 "metadata": {
  "kernelspec": {
   "display_name": "Python [conda env:base] *",
   "language": "python",
   "name": "conda-base-py"
  },
  "language_info": {
   "codemirror_mode": {
    "name": "ipython",
    "version": 3
   },
   "file_extension": ".py",
   "mimetype": "text/x-python",
   "name": "python",
   "nbconvert_exporter": "python",
   "pygments_lexer": "ipython3",
   "version": "3.12.7"
  }
 },
 "nbformat": 4,
 "nbformat_minor": 5
}
